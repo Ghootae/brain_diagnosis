{
 "cells": [
  {
   "cell_type": "code",
   "execution_count": 1,
   "metadata": {},
   "outputs": [],
   "source": [
    "import glob, pylab, pandas as pd\n",
    "import pydicom, numpy as np\n",
    "from os import listdir\n",
    "from os.path import isfile, join\n",
    "import cv2 as cv\n",
    "\n",
    "import matplotlib.pylab as plt\n",
    "import os,sys\n",
    "import seaborn as sns\n",
    "import scipy.ndimage"
   ]
  },
  {
   "cell_type": "code",
   "execution_count": 8,
   "metadata": {},
   "outputs": [],
   "source": [
    "def norm_resize_stream(img_np, id_np, img_size, save_dir):\n",
    "    \n",
    "    norm_resize_imgs=[]\n",
    "    for i in range(len(img_np)):\n",
    "        img = img_np[i]\n",
    "        img = cv.normalize(img.astype(np.uint8), None, 0, 255, cv.NORM_MINMAX)\n",
    "        img = cv.resize(img, dsize=(img_size, img_size), interpolation=cv.INTER_LINEAR)\n",
    "        cv.imwrite(save_dir+'/imgs/'+id_np[i]+'.png', img)\n",
    "        norm_resize_imgs.append(img)\n",
    "    print('* Final image data shape: ', np.shape(norm_resize_imgs))    \n",
    "    return norm_resize_imgs     "
   ]
  },
  {
   "cell_type": "code",
   "execution_count": 10,
   "metadata": {},
   "outputs": [
    {
     "name": "stdout",
     "output_type": "stream",
     "text": [
      "--- Loading numpy data from  ../2-HU_Window/res_dcm_500/subdural/\n",
      "* length of id.npy : 74\n",
      "* length of img.npy : 74\n",
      "* length of label.npy : 74\n"
     ]
    }
   ],
   "source": [
    "print( '--- Loading numpy data from ', np_dir )\n",
    "\n",
    "id_np = np.load(np_dir+'/id_data.npy')\n",
    "img_np = np.load(np_dir+'/img_data.npy')\n",
    "label_np = np.load(np_dir+'/label_data.npy')\n",
    "print('* length of id.npy :', len(id_np))\n",
    "print('* length of img.npy :', len(img_np))\n",
    "print('* length of label.npy :', len(label_np))"
   ]
  },
  {
   "cell_type": "code",
   "execution_count": 19,
   "metadata": {},
   "outputs": [
    {
     "name": "stdout",
     "output_type": "stream",
     "text": [
      "* Save dir :  res_dcm_500/subdural\n"
     ]
    }
   ],
   "source": [
    "save_dir = 'res_'+data_dir\n",
    "if not os.path.exists(save_dir):\n",
    "    os.makedirs(save_dir)\n",
    "\n",
    "save_dir = save_dir+'/'+data_type\n",
    "if not os.path.exists(save_dir):\n",
    "    os.makedirs(save_dir)\n",
    "    os.makedirs(save_dir+'/imgs/')\n",
    "    \n",
    "print('* Save dir : ', save_dir)"
   ]
  },
  {
   "cell_type": "code",
   "execution_count": 21,
   "metadata": {},
   "outputs": [
    {
     "name": "stdout",
     "output_type": "stream",
     "text": [
      "--- Transform images... Nomalize and Reshape\n",
      "* Final image data shape:  (74, 128, 128)\n",
      "--- png files are saved in res_dcm_500/subdural/imgs\n"
     ]
    }
   ],
   "source": [
    "print('--- Transform images... Nomalize and Reshape')\n",
    "img_size = 128\n",
    "norm_resize_imgs = norm_resize_stream(img_np, id_np, img_size, save_dir)\n",
    "print('--- png files are saved in', save_dir+'/imgs')"
   ]
  },
  {
   "cell_type": "code",
   "execution_count": 13,
   "metadata": {},
   "outputs": [
    {
     "name": "stdout",
     "output_type": "stream",
     "text": [
      "--- Saving numpy data... (img, id, label)\n"
     ]
    }
   ],
   "source": [
    "print( '--- Saving numpy data... (img, id, label)')\n",
    "\n",
    "re_img_np = np.array(norm_resize_imgs)\n",
    "np.save(save_dir+'/img_data',re_img_np)\n",
    "np.save(save_dir+'/id_data', id_np)\n",
    "np.save(save_dir+'/label_data', label_np)"
   ]
  },
  {
   "cell_type": "code",
   "execution_count": null,
   "metadata": {},
   "outputs": [],
   "source": []
  }
 ],
 "metadata": {
  "kernelspec": {
   "display_name": "Python 3",
   "language": "python",
   "name": "python3"
  },
  "language_info": {
   "codemirror_mode": {
    "name": "ipython",
    "version": 3
   },
   "file_extension": ".py",
   "mimetype": "text/x-python",
   "name": "python",
   "nbconvert_exporter": "python",
   "pygments_lexer": "ipython3",
   "version": "3.7.4"
  }
 },
 "nbformat": 4,
 "nbformat_minor": 4
}
