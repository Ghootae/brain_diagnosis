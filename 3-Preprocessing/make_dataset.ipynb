{
 "cells": [
  {
   "cell_type": "code",
   "execution_count": 1,
   "metadata": {},
   "outputs": [],
   "source": [
    "path = !pwd"
   ]
  },
  {
   "cell_type": "code",
   "execution_count": 2,
   "metadata": {},
   "outputs": [],
   "source": [
    "import os, sys\n",
    "\n",
    "sys.path.append(\"/Users/nibey/WorkSpace/brain_diagnosis/2-EDA\")\n",
    "from eda_helper import see_dir_size, EDA_helper\n",
    "\n",
    "data = EDA_helper('stage_pre_train')"
   ]
  },
  {
   "cell_type": "code",
   "execution_count": 3,
   "metadata": {},
   "outputs": [],
   "source": [
    "windowed_imgs = data.get_window_imgs()"
   ]
  },
  {
   "cell_type": "code",
   "execution_count": 5,
   "metadata": {},
   "outputs": [],
   "source": [
    "import cv2 as cv\n",
    "\n",
    "save_dir = './1-test/'\n",
    "if not(os.path.exists(save_dir)):\n",
    "    os.mkdir(save_dir)\n",
    "    \n",
    "for i in range(len(windowed_imgs)):\n",
    "    cv.imwrite(save_dir+str(data.list[i])+'.png', windowed_imgs[i])"
   ]
  },
  {
   "cell_type": "code",
   "execution_count": 7,
   "metadata": {
    "scrolled": true
   },
   "outputs": [
    {
     "name": "stdout",
     "output_type": "stream",
     "text": [
      "ID_07c9bea25.dcm.png ID_731ac5f03.dcm.png ID_e0ff5bec6.dcm.png\r\n",
      "ID_6c5d82413.dcm.png ID_b35e2d521.dcm.png\r\n"
     ]
    }
   ],
   "source": [
    "!ls 1-test"
   ]
  },
  {
   "cell_type": "code",
   "execution_count": 31,
   "metadata": {},
   "outputs": [],
   "source": [
    "import glob\n",
    "import numpy as np\n",
    "file_dir = './1-test/'\n",
    "save_dir = './2-test/'\n",
    "\n",
    "def resize_and_norm_img(file_dir, save_dir, img_size=256):\n",
    "\n",
    "    if not(os.path.exists(save_dir)):\n",
    "        os.mkdir(save_dir)\n",
    "\n",
    "    file_list = [f for f in glob.glob(file_dir+'/*.png', recursive=True)]\n",
    "    for file in file_list:\n",
    "        img = cv.imread(file, cv.IMREAD_GRAYSCALE)\n",
    "        img = cv.normalize(img.astype(np.uint8), None, 0, 255, cv.NORM_MINMAX)\n",
    "        img = cv.resize(img, dsize=(img_size, img_size), interpolation=cv.INTER_LINEAR)\n",
    "        img_name = os.path.basename(file)\n",
    "        img_name = os.path.splitext(img_name)[0]\n",
    "        cv.imwrite(save_dir+img_name+'.png', img)"
   ]
  },
  {
   "cell_type": "code",
   "execution_count": 32,
   "metadata": {},
   "outputs": [],
   "source": [
    "resize_and_norm_img(file_dir, save_dir)"
   ]
  },
  {
   "cell_type": "code",
   "execution_count": 33,
   "metadata": {},
   "outputs": [
    {
     "name": "stdout",
     "output_type": "stream",
     "text": [
      "ID_07c9bea25.dcm.png ID_731ac5f03.dcm.png ID_e0ff5bec6.dcm.png\r\n",
      "ID_6c5d82413.dcm.png ID_b35e2d521.dcm.png\r\n"
     ]
    }
   ],
   "source": [
    "!ls 2-test"
   ]
  },
  {
   "cell_type": "code",
   "execution_count": 53,
   "metadata": {},
   "outputs": [
    {
     "data": {
      "text/plain": [
       "array(['epidural', 'intraparenchymal', 'intraventricular', 'subarachnoid',\n",
       "       'subdural', 'any'], dtype=object)"
      ]
     },
     "execution_count": 53,
     "metadata": {},
     "output_type": "execute_result"
    }
   ],
   "source": [
    "data.label_type"
   ]
  },
  {
   "cell_type": "code",
   "execution_count": 102,
   "metadata": {},
   "outputs": [],
   "source": [
    "import matplotlib.pylab as plt\n",
    "from tqdm import tqdm\n",
    "from tensorflow.keras.preprocessing import image\n",
    "from tensorflow.keras.preprocessing.image import img_to_array, array_to_img\n",
    "\n",
    "data_dir = './2-test/'\n",
    "\n",
    "\n",
    "file_list = [f for f in glob.glob(file_dir+'/*.png', recursive=True)]\n",
    "idx_list = [file_list[i].split('.')[1].split('/')[2] for i in range(len(file_list))]\n",
    "\n",
    "x_list = []\n",
    "for file in file_list:\n",
    "    img = image.load_img(file, target_size = (256, 256))\n",
    "    img = img_to_array(img)\n",
    "    img = img / 255\n",
    "    x_list.append(img)\n",
    "    \n",
    "x_train = np.array(x_list)"
   ]
  },
  {
   "cell_type": "code",
   "execution_count": 116,
   "metadata": {},
   "outputs": [],
   "source": [
    "import pandas as pd\n",
    "\n",
    "#load the label data\n",
    "label_path = '../1-Dataset'\n",
    "train = pd.read_csv(label_path + '/stage_pre_train.csv', sep=\",\", dtype = 'unicode')\n",
    "train['Sub_type'] = train['ID'].str.split(\"_\", n = 3, expand = True)[2]\n",
    "train['PatientID'] = train['ID'].str.split(\"_\", n = 3, expand = True)[1]\n",
    "\n",
    "filter_id = train['PatientID'] == '6c5d82413'\n",
    "filter_type = train['Sub_type'] == 'subdural'\n",
    "\n",
    "y_train = train[filter_type]\n",
    "y_train = np.array(y_train['Label'])"
   ]
  },
  {
   "cell_type": "code",
   "execution_count": 115,
   "metadata": {},
   "outputs": [
    {
     "name": "stdout",
     "output_type": "stream",
     "text": [
      "(5, 256, 256, 3) (5,)\n",
      "['0' '1' '0' '0' '0']\n"
     ]
    }
   ],
   "source": [
    "print(x_train.shape, y_train.shape)\n",
    "print(y_train)"
   ]
  }
 ],
 "metadata": {
  "kernelspec": {
   "display_name": "Python 3",
   "language": "python",
   "name": "python3"
  },
  "language_info": {
   "codemirror_mode": {
    "name": "ipython",
    "version": 3
   },
   "file_extension": ".py",
   "mimetype": "text/x-python",
   "name": "python",
   "nbconvert_exporter": "python",
   "pygments_lexer": "ipython3",
   "version": "3.7.4"
  }
 },
 "nbformat": 4,
 "nbformat_minor": 4
}
